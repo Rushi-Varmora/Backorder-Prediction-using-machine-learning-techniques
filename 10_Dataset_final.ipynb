{
  "nbformat": 4,
  "nbformat_minor": 0,
  "metadata": {
    "colab": {
      "name": "10-Dataset_final.ipynb",
      "provenance": [],
      "collapsed_sections": [],
      "authorship_tag": "ABX9TyP3DEww7FsOg9zFKVezwuQv",
      "include_colab_link": true
    },
    "kernelspec": {
      "name": "python3",
      "display_name": "Python 3"
    },
    "language_info": {
      "name": "python"
    }
  },
  "cells": [
    {
      "cell_type": "markdown",
      "metadata": {
        "id": "view-in-github",
        "colab_type": "text"
      },
      "source": [
        "<a href=\"https://colab.research.google.com/github/Rushi-Varmora/Backorder-Prediction-using-machine-learning-techniques/blob/main/10_Dataset_final.ipynb\" target=\"_parent\"><img src=\"https://colab.research.google.com/assets/colab-badge.svg\" alt=\"Open In Colab\"/></a>"
      ]
    },
    {
      "cell_type": "code",
      "execution_count": null,
      "metadata": {
        "id": "dbIzwTbhjxzk"
      },
      "outputs": [],
      "source": [
        "import numpy as np\n",
        "import pandas as pd\n",
        "import matplotlib.pyplot as plt\n",
        "import seaborn as sns"
      ]
    },
    {
      "cell_type": "code",
      "source": [
        "from google.colab import drive"
      ],
      "metadata": {
        "id": "JZwsl-pfduYc"
      },
      "execution_count": null,
      "outputs": []
    },
    {
      "cell_type": "code",
      "source": [
        "drive.mount('/content/drive')"
      ],
      "metadata": {
        "colab": {
          "base_uri": "https://localhost:8080/"
        },
        "id": "G-Ep44vCeTKO",
        "outputId": "a3f0c9f0-bcea-47ee-8405-6257c9a11348"
      },
      "execution_count": null,
      "outputs": [
        {
          "output_type": "stream",
          "name": "stdout",
          "text": [
            "Drive already mounted at /content/drive; to attempt to forcibly remount, call drive.mount(\"/content/drive\", force_remount=True).\n"
          ]
        }
      ]
    },
    {
      "cell_type": "code",
      "source": [
        "cd /content/drive/\"My Drive/ML-Project\""
      ],
      "metadata": {
        "colab": {
          "base_uri": "https://localhost:8080/"
        },
        "id": "syC9AhIXeaNU",
        "outputId": "dc4b984d-2c09-4dfc-c6f2-89eab068e1b2"
      },
      "execution_count": null,
      "outputs": [
        {
          "output_type": "stream",
          "name": "stdout",
          "text": [
            "/content/drive/My Drive/ML-Project\n"
          ]
        }
      ]
    },
    {
      "cell_type": "code",
      "source": [
        "dataset = pd.read_csv(\"Backorder.csv\")"
      ],
      "metadata": {
        "id": "5XO5sW49lEK4"
      },
      "execution_count": null,
      "outputs": []
    },
    {
      "cell_type": "code",
      "source": [
        "dataset\n"
      ],
      "metadata": {
        "colab": {
          "base_uri": "https://localhost:8080/",
          "height": 488
        },
        "id": "Dm3uxscXlThs",
        "outputId": "4753d0d7-f9a6-41cf-8fd3-9cdd81e4944d"
      },
      "execution_count": null,
      "outputs": [
        {
          "output_type": "execute_result",
          "data": {
            "text/plain": [
              "         product_id  current_inventory  transit_duration  prior_sales_1_month  \\\n",
              "0           1026827                0.0               8.0                  0.0   \n",
              "1           1043384                2.0               9.0                  0.0   \n",
              "2           1043696                2.0               8.0                  0.0   \n",
              "3           1043852                7.0               8.0                  0.0   \n",
              "4           1044048                8.0               8.0                  0.0   \n",
              "...             ...                ...               ...                  ...   \n",
              "1687855     1407754                0.0               2.0                  0.0   \n",
              "1687856     1373987               -1.0               8.0                  1.0   \n",
              "1687857     1524346               -1.0               9.0                  0.0   \n",
              "1687858     1439563               62.0               9.0                 35.0   \n",
              "1687859     1502009               19.0               4.0                  2.0   \n",
              "\n",
              "         prior_sales_3_month  prior_sales_6_month  prior_sales_9_month  \\\n",
              "0                        0.0                  0.0                  0.0   \n",
              "1                        0.0                  0.0                  0.0   \n",
              "2                        0.0                  0.0                  0.0   \n",
              "3                        0.0                  0.0                  0.0   \n",
              "4                        0.0                  0.0                  4.0   \n",
              "...                      ...                  ...                  ...   \n",
              "1687855                  5.0                  7.0                  7.0   \n",
              "1687856                  3.0                  3.0                  8.0   \n",
              "1687857                  8.0                 11.0                 12.0   \n",
              "1687858                 63.0                153.0                205.0   \n",
              "1687859                  7.0                 12.0                 20.0   \n",
              "\n",
              "         minimum_recommend_stock source_has_issue  \\\n",
              "0                            0.0               No   \n",
              "1                            0.0               No   \n",
              "2                            0.0               No   \n",
              "3                            1.0               No   \n",
              "4                            2.0               No   \n",
              "...                          ...              ...   \n",
              "1687855                      0.0               No   \n",
              "1687856                      0.0               No   \n",
              "1687857                      0.0               No   \n",
              "1687858                     12.0               No   \n",
              "1687859                      1.0               No   \n",
              "\n",
              "         source_performance_6_months  source_performance_12_months deck_risk  \\\n",
              "0                               0.84                          0.83        No   \n",
              "1                               0.99                          0.99        No   \n",
              "2                               0.84                          0.83       Yes   \n",
              "3                               0.10                          0.13        No   \n",
              "4                               0.84                          0.83       Yes   \n",
              "...                              ...                           ...       ...   \n",
              "1687855                         0.69                          0.69       Yes   \n",
              "1687856                         0.84                          0.83        No   \n",
              "1687857                         0.86                          0.84       Yes   \n",
              "1687858                         0.86                          0.84        No   \n",
              "1687859                         0.73                          0.78        No   \n",
              "\n",
              "        oe_constraint ppap_risk stop_auto_buy rev_stop went_on_backorder  \n",
              "0                  No        No           Yes       No                No  \n",
              "1                  No        No           Yes       No                No  \n",
              "2                  No        No           Yes       No                No  \n",
              "3                  No        No           Yes       No                No  \n",
              "4                  No        No           Yes       No                No  \n",
              "...               ...       ...           ...      ...               ...  \n",
              "1687855            No        No           Yes       No                No  \n",
              "1687856            No        No           Yes       No                No  \n",
              "1687857            No        No            No       No               Yes  \n",
              "1687858            No        No           Yes       No                No  \n",
              "1687859            No        No           Yes       No                No  \n",
              "\n",
              "[1687860 rows x 17 columns]"
            ],
            "text/html": [
              "\n",
              "  <div id=\"df-52c90d77-2252-4f1e-b92e-c3449ba12e51\">\n",
              "    <div class=\"colab-df-container\">\n",
              "      <div>\n",
              "<style scoped>\n",
              "    .dataframe tbody tr th:only-of-type {\n",
              "        vertical-align: middle;\n",
              "    }\n",
              "\n",
              "    .dataframe tbody tr th {\n",
              "        vertical-align: top;\n",
              "    }\n",
              "\n",
              "    .dataframe thead th {\n",
              "        text-align: right;\n",
              "    }\n",
              "</style>\n",
              "<table border=\"1\" class=\"dataframe\">\n",
              "  <thead>\n",
              "    <tr style=\"text-align: right;\">\n",
              "      <th></th>\n",
              "      <th>product_id</th>\n",
              "      <th>current_inventory</th>\n",
              "      <th>transit_duration</th>\n",
              "      <th>prior_sales_1_month</th>\n",
              "      <th>prior_sales_3_month</th>\n",
              "      <th>prior_sales_6_month</th>\n",
              "      <th>prior_sales_9_month</th>\n",
              "      <th>minimum_recommend_stock</th>\n",
              "      <th>source_has_issue</th>\n",
              "      <th>source_performance_6_months</th>\n",
              "      <th>source_performance_12_months</th>\n",
              "      <th>deck_risk</th>\n",
              "      <th>oe_constraint</th>\n",
              "      <th>ppap_risk</th>\n",
              "      <th>stop_auto_buy</th>\n",
              "      <th>rev_stop</th>\n",
              "      <th>went_on_backorder</th>\n",
              "    </tr>\n",
              "  </thead>\n",
              "  <tbody>\n",
              "    <tr>\n",
              "      <th>0</th>\n",
              "      <td>1026827</td>\n",
              "      <td>0.0</td>\n",
              "      <td>8.0</td>\n",
              "      <td>0.0</td>\n",
              "      <td>0.0</td>\n",
              "      <td>0.0</td>\n",
              "      <td>0.0</td>\n",
              "      <td>0.0</td>\n",
              "      <td>No</td>\n",
              "      <td>0.84</td>\n",
              "      <td>0.83</td>\n",
              "      <td>No</td>\n",
              "      <td>No</td>\n",
              "      <td>No</td>\n",
              "      <td>Yes</td>\n",
              "      <td>No</td>\n",
              "      <td>No</td>\n",
              "    </tr>\n",
              "    <tr>\n",
              "      <th>1</th>\n",
              "      <td>1043384</td>\n",
              "      <td>2.0</td>\n",
              "      <td>9.0</td>\n",
              "      <td>0.0</td>\n",
              "      <td>0.0</td>\n",
              "      <td>0.0</td>\n",
              "      <td>0.0</td>\n",
              "      <td>0.0</td>\n",
              "      <td>No</td>\n",
              "      <td>0.99</td>\n",
              "      <td>0.99</td>\n",
              "      <td>No</td>\n",
              "      <td>No</td>\n",
              "      <td>No</td>\n",
              "      <td>Yes</td>\n",
              "      <td>No</td>\n",
              "      <td>No</td>\n",
              "    </tr>\n",
              "    <tr>\n",
              "      <th>2</th>\n",
              "      <td>1043696</td>\n",
              "      <td>2.0</td>\n",
              "      <td>8.0</td>\n",
              "      <td>0.0</td>\n",
              "      <td>0.0</td>\n",
              "      <td>0.0</td>\n",
              "      <td>0.0</td>\n",
              "      <td>0.0</td>\n",
              "      <td>No</td>\n",
              "      <td>0.84</td>\n",
              "      <td>0.83</td>\n",
              "      <td>Yes</td>\n",
              "      <td>No</td>\n",
              "      <td>No</td>\n",
              "      <td>Yes</td>\n",
              "      <td>No</td>\n",
              "      <td>No</td>\n",
              "    </tr>\n",
              "    <tr>\n",
              "      <th>3</th>\n",
              "      <td>1043852</td>\n",
              "      <td>7.0</td>\n",
              "      <td>8.0</td>\n",
              "      <td>0.0</td>\n",
              "      <td>0.0</td>\n",
              "      <td>0.0</td>\n",
              "      <td>0.0</td>\n",
              "      <td>1.0</td>\n",
              "      <td>No</td>\n",
              "      <td>0.10</td>\n",
              "      <td>0.13</td>\n",
              "      <td>No</td>\n",
              "      <td>No</td>\n",
              "      <td>No</td>\n",
              "      <td>Yes</td>\n",
              "      <td>No</td>\n",
              "      <td>No</td>\n",
              "    </tr>\n",
              "    <tr>\n",
              "      <th>4</th>\n",
              "      <td>1044048</td>\n",
              "      <td>8.0</td>\n",
              "      <td>8.0</td>\n",
              "      <td>0.0</td>\n",
              "      <td>0.0</td>\n",
              "      <td>0.0</td>\n",
              "      <td>4.0</td>\n",
              "      <td>2.0</td>\n",
              "      <td>No</td>\n",
              "      <td>0.84</td>\n",
              "      <td>0.83</td>\n",
              "      <td>Yes</td>\n",
              "      <td>No</td>\n",
              "      <td>No</td>\n",
              "      <td>Yes</td>\n",
              "      <td>No</td>\n",
              "      <td>No</td>\n",
              "    </tr>\n",
              "    <tr>\n",
              "      <th>...</th>\n",
              "      <td>...</td>\n",
              "      <td>...</td>\n",
              "      <td>...</td>\n",
              "      <td>...</td>\n",
              "      <td>...</td>\n",
              "      <td>...</td>\n",
              "      <td>...</td>\n",
              "      <td>...</td>\n",
              "      <td>...</td>\n",
              "      <td>...</td>\n",
              "      <td>...</td>\n",
              "      <td>...</td>\n",
              "      <td>...</td>\n",
              "      <td>...</td>\n",
              "      <td>...</td>\n",
              "      <td>...</td>\n",
              "      <td>...</td>\n",
              "    </tr>\n",
              "    <tr>\n",
              "      <th>1687855</th>\n",
              "      <td>1407754</td>\n",
              "      <td>0.0</td>\n",
              "      <td>2.0</td>\n",
              "      <td>0.0</td>\n",
              "      <td>5.0</td>\n",
              "      <td>7.0</td>\n",
              "      <td>7.0</td>\n",
              "      <td>0.0</td>\n",
              "      <td>No</td>\n",
              "      <td>0.69</td>\n",
              "      <td>0.69</td>\n",
              "      <td>Yes</td>\n",
              "      <td>No</td>\n",
              "      <td>No</td>\n",
              "      <td>Yes</td>\n",
              "      <td>No</td>\n",
              "      <td>No</td>\n",
              "    </tr>\n",
              "    <tr>\n",
              "      <th>1687856</th>\n",
              "      <td>1373987</td>\n",
              "      <td>-1.0</td>\n",
              "      <td>8.0</td>\n",
              "      <td>1.0</td>\n",
              "      <td>3.0</td>\n",
              "      <td>3.0</td>\n",
              "      <td>8.0</td>\n",
              "      <td>0.0</td>\n",
              "      <td>No</td>\n",
              "      <td>0.84</td>\n",
              "      <td>0.83</td>\n",
              "      <td>No</td>\n",
              "      <td>No</td>\n",
              "      <td>No</td>\n",
              "      <td>Yes</td>\n",
              "      <td>No</td>\n",
              "      <td>No</td>\n",
              "    </tr>\n",
              "    <tr>\n",
              "      <th>1687857</th>\n",
              "      <td>1524346</td>\n",
              "      <td>-1.0</td>\n",
              "      <td>9.0</td>\n",
              "      <td>0.0</td>\n",
              "      <td>8.0</td>\n",
              "      <td>11.0</td>\n",
              "      <td>12.0</td>\n",
              "      <td>0.0</td>\n",
              "      <td>No</td>\n",
              "      <td>0.86</td>\n",
              "      <td>0.84</td>\n",
              "      <td>Yes</td>\n",
              "      <td>No</td>\n",
              "      <td>No</td>\n",
              "      <td>No</td>\n",
              "      <td>No</td>\n",
              "      <td>Yes</td>\n",
              "    </tr>\n",
              "    <tr>\n",
              "      <th>1687858</th>\n",
              "      <td>1439563</td>\n",
              "      <td>62.0</td>\n",
              "      <td>9.0</td>\n",
              "      <td>35.0</td>\n",
              "      <td>63.0</td>\n",
              "      <td>153.0</td>\n",
              "      <td>205.0</td>\n",
              "      <td>12.0</td>\n",
              "      <td>No</td>\n",
              "      <td>0.86</td>\n",
              "      <td>0.84</td>\n",
              "      <td>No</td>\n",
              "      <td>No</td>\n",
              "      <td>No</td>\n",
              "      <td>Yes</td>\n",
              "      <td>No</td>\n",
              "      <td>No</td>\n",
              "    </tr>\n",
              "    <tr>\n",
              "      <th>1687859</th>\n",
              "      <td>1502009</td>\n",
              "      <td>19.0</td>\n",
              "      <td>4.0</td>\n",
              "      <td>2.0</td>\n",
              "      <td>7.0</td>\n",
              "      <td>12.0</td>\n",
              "      <td>20.0</td>\n",
              "      <td>1.0</td>\n",
              "      <td>No</td>\n",
              "      <td>0.73</td>\n",
              "      <td>0.78</td>\n",
              "      <td>No</td>\n",
              "      <td>No</td>\n",
              "      <td>No</td>\n",
              "      <td>Yes</td>\n",
              "      <td>No</td>\n",
              "      <td>No</td>\n",
              "    </tr>\n",
              "  </tbody>\n",
              "</table>\n",
              "<p>1687860 rows × 17 columns</p>\n",
              "</div>\n",
              "      <button class=\"colab-df-convert\" onclick=\"convertToInteractive('df-52c90d77-2252-4f1e-b92e-c3449ba12e51')\"\n",
              "              title=\"Convert this dataframe to an interactive table.\"\n",
              "              style=\"display:none;\">\n",
              "        \n",
              "  <svg xmlns=\"http://www.w3.org/2000/svg\" height=\"24px\"viewBox=\"0 0 24 24\"\n",
              "       width=\"24px\">\n",
              "    <path d=\"M0 0h24v24H0V0z\" fill=\"none\"/>\n",
              "    <path d=\"M18.56 5.44l.94 2.06.94-2.06 2.06-.94-2.06-.94-.94-2.06-.94 2.06-2.06.94zm-11 1L8.5 8.5l.94-2.06 2.06-.94-2.06-.94L8.5 2.5l-.94 2.06-2.06.94zm10 10l.94 2.06.94-2.06 2.06-.94-2.06-.94-.94-2.06-.94 2.06-2.06.94z\"/><path d=\"M17.41 7.96l-1.37-1.37c-.4-.4-.92-.59-1.43-.59-.52 0-1.04.2-1.43.59L10.3 9.45l-7.72 7.72c-.78.78-.78 2.05 0 2.83L4 21.41c.39.39.9.59 1.41.59.51 0 1.02-.2 1.41-.59l7.78-7.78 2.81-2.81c.8-.78.8-2.07 0-2.86zM5.41 20L4 18.59l7.72-7.72 1.47 1.35L5.41 20z\"/>\n",
              "  </svg>\n",
              "      </button>\n",
              "      \n",
              "  <style>\n",
              "    .colab-df-container {\n",
              "      display:flex;\n",
              "      flex-wrap:wrap;\n",
              "      gap: 12px;\n",
              "    }\n",
              "\n",
              "    .colab-df-convert {\n",
              "      background-color: #E8F0FE;\n",
              "      border: none;\n",
              "      border-radius: 50%;\n",
              "      cursor: pointer;\n",
              "      display: none;\n",
              "      fill: #1967D2;\n",
              "      height: 32px;\n",
              "      padding: 0 0 0 0;\n",
              "      width: 32px;\n",
              "    }\n",
              "\n",
              "    .colab-df-convert:hover {\n",
              "      background-color: #E2EBFA;\n",
              "      box-shadow: 0px 1px 2px rgba(60, 64, 67, 0.3), 0px 1px 3px 1px rgba(60, 64, 67, 0.15);\n",
              "      fill: #174EA6;\n",
              "    }\n",
              "\n",
              "    [theme=dark] .colab-df-convert {\n",
              "      background-color: #3B4455;\n",
              "      fill: #D2E3FC;\n",
              "    }\n",
              "\n",
              "    [theme=dark] .colab-df-convert:hover {\n",
              "      background-color: #434B5C;\n",
              "      box-shadow: 0px 1px 3px 1px rgba(0, 0, 0, 0.15);\n",
              "      filter: drop-shadow(0px 1px 2px rgba(0, 0, 0, 0.3));\n",
              "      fill: #FFFFFF;\n",
              "    }\n",
              "  </style>\n",
              "\n",
              "      <script>\n",
              "        const buttonEl =\n",
              "          document.querySelector('#df-52c90d77-2252-4f1e-b92e-c3449ba12e51 button.colab-df-convert');\n",
              "        buttonEl.style.display =\n",
              "          google.colab.kernel.accessAllowed ? 'block' : 'none';\n",
              "\n",
              "        async function convertToInteractive(key) {\n",
              "          const element = document.querySelector('#df-52c90d77-2252-4f1e-b92e-c3449ba12e51');\n",
              "          const dataTable =\n",
              "            await google.colab.kernel.invokeFunction('convertToInteractive',\n",
              "                                                     [key], {});\n",
              "          if (!dataTable) return;\n",
              "\n",
              "          const docLinkHtml = 'Like what you see? Visit the ' +\n",
              "            '<a target=\"_blank\" href=https://colab.research.google.com/notebooks/data_table.ipynb>data table notebook</a>'\n",
              "            + ' to learn more about interactive tables.';\n",
              "          element.innerHTML = '';\n",
              "          dataTable['output_type'] = 'display_data';\n",
              "          await google.colab.output.renderOutput(dataTable, element);\n",
              "          const docLink = document.createElement('div');\n",
              "          docLink.innerHTML = docLinkHtml;\n",
              "          element.appendChild(docLink);\n",
              "        }\n",
              "      </script>\n",
              "    </div>\n",
              "  </div>\n",
              "  "
            ]
          },
          "metadata": {},
          "execution_count": 82
        }
      ]
    },
    {
      "cell_type": "code",
      "source": [
        "df = pd.DataFrame(dataset)"
      ],
      "metadata": {
        "id": "hGki8r-olX4X"
      },
      "execution_count": null,
      "outputs": []
    },
    {
      "cell_type": "code",
      "source": [
        "df.info()\n",
        "\n"
      ],
      "metadata": {
        "colab": {
          "base_uri": "https://localhost:8080/"
        },
        "id": "YA6F2wHKllHN",
        "outputId": "eec87ce6-12b7-4495-c197-892c8ffeeb38"
      },
      "execution_count": null,
      "outputs": [
        {
          "output_type": "stream",
          "name": "stdout",
          "text": [
            "<class 'pandas.core.frame.DataFrame'>\n",
            "RangeIndex: 1687860 entries, 0 to 1687859\n",
            "Data columns (total 17 columns):\n",
            " #   Column                        Non-Null Count    Dtype  \n",
            "---  ------                        --------------    -----  \n",
            " 0   product_id                    1687860 non-null  int64  \n",
            " 1   current_inventory             1687860 non-null  float64\n",
            " 2   transit_duration              1687860 non-null  float64\n",
            " 3   prior_sales_1_month           1687860 non-null  float64\n",
            " 4   prior_sales_3_month           1687860 non-null  float64\n",
            " 5   prior_sales_6_month           1687860 non-null  float64\n",
            " 6   prior_sales_9_month           1687860 non-null  float64\n",
            " 7   minimum_recommend_stock       1687860 non-null  float64\n",
            " 8   source_has_issue              1687860 non-null  object \n",
            " 9   source_performance_6_months   1687860 non-null  float64\n",
            " 10  source_performance_12_months  1687860 non-null  float64\n",
            " 11  deck_risk                     1687860 non-null  object \n",
            " 12  oe_constraint                 1687860 non-null  object \n",
            " 13  ppap_risk                     1687860 non-null  object \n",
            " 14  stop_auto_buy                 1687860 non-null  object \n",
            " 15  rev_stop                      1687860 non-null  object \n",
            " 16  went_on_backorder             1687860 non-null  object \n",
            "dtypes: float64(9), int64(1), object(7)\n",
            "memory usage: 218.9+ MB\n"
          ]
        }
      ]
    },
    {
      "cell_type": "code",
      "source": [
        "df.to_csv('new.csv')\n"
      ],
      "metadata": {
        "id": "djOMvgu2ll2G"
      },
      "execution_count": null,
      "outputs": []
    },
    {
      "cell_type": "code",
      "source": [
        "dataset = pd.read_csv(\"new.csv\")"
      ],
      "metadata": {
        "id": "xpAydqpOmtr-"
      },
      "execution_count": null,
      "outputs": []
    },
    {
      "cell_type": "code",
      "source": [
        "df= pd.DataFrame(dataset)\n"
      ],
      "metadata": {
        "id": "j_8H-XBAmxXD"
      },
      "execution_count": null,
      "outputs": []
    },
    {
      "cell_type": "code",
      "source": [
        "df = df.drop(['Unnamed: 0','product_id','prior_sales_6_month','stop_auto_buy','rev_stop','deck_risk','source_has_issue','ppap_risk'],axis = 1)"
      ],
      "metadata": {
        "id": "bL0Mte2_m1iA"
      },
      "execution_count": null,
      "outputs": []
    },
    {
      "cell_type": "code",
      "source": [
        "df.info()"
      ],
      "metadata": {
        "colab": {
          "base_uri": "https://localhost:8080/"
        },
        "id": "9kOUabRqo85G",
        "outputId": "31c05124-a50d-4c58-8306-1783a582bcb7"
      },
      "execution_count": null,
      "outputs": [
        {
          "output_type": "stream",
          "name": "stdout",
          "text": [
            "<class 'pandas.core.frame.DataFrame'>\n",
            "RangeIndex: 1687860 entries, 0 to 1687859\n",
            "Data columns (total 10 columns):\n",
            " #   Column                        Non-Null Count    Dtype  \n",
            "---  ------                        --------------    -----  \n",
            " 0   current_inventory             1687860 non-null  float64\n",
            " 1   transit_duration              1687860 non-null  float64\n",
            " 2   prior_sales_1_month           1687860 non-null  float64\n",
            " 3   prior_sales_3_month           1687860 non-null  float64\n",
            " 4   prior_sales_9_month           1687860 non-null  float64\n",
            " 5   minimum_recommend_stock       1687860 non-null  float64\n",
            " 6   source_performance_6_months   1687860 non-null  float64\n",
            " 7   source_performance_12_months  1687860 non-null  float64\n",
            " 8   oe_constraint                 1687860 non-null  object \n",
            " 9   went_on_backorder             1687860 non-null  object \n",
            "dtypes: float64(8), object(2)\n",
            "memory usage: 128.8+ MB\n"
          ]
        }
      ]
    },
    {
      "cell_type": "code",
      "source": [
        "#Preparing the data for modeling\n",
        "#X = pd.DataFrame(masterData.columns)\n",
        "X = df[df.columns]\n",
        "y = df['went_on_backorder']\n",
        "X.shape, y.shape"
      ],
      "metadata": {
        "colab": {
          "base_uri": "https://localhost:8080/"
        },
        "id": "f-ys4IBTpFe_",
        "outputId": "aa41f1aa-386b-4441-b7ca-a9e13eef9739"
      },
      "execution_count": null,
      "outputs": [
        {
          "output_type": "execute_result",
          "data": {
            "text/plain": [
              "((1687860, 10), (1687860,))"
            ]
          },
          "metadata": {},
          "execution_count": 90
        }
      ]
    },
    {
      "cell_type": "code",
      "source": [
        "\n",
        "#Convert the categorical data into numerical\n",
        "y = y.replace('Yes', 1)\n",
        "y = y.replace('No', 0)\n",
        "X['oe_constraint'] = X.oe_constraint.map({'Yes':1, 'No':0})\n",
        "\n",
        "X = X.drop(['went_on_backorder'], axis = 1, errors = 'ignore')\n",
        "X.shape, y.shape\n"
      ],
      "metadata": {
        "colab": {
          "base_uri": "https://localhost:8080/"
        },
        "id": "RcoH8_t9Ly10",
        "outputId": "cd1bb4ab-41e6-4dc5-b6ac-a4dd284ac281"
      },
      "execution_count": null,
      "outputs": [
        {
          "output_type": "execute_result",
          "data": {
            "text/plain": [
              "((1687860, 9), (1687860,))"
            ]
          },
          "metadata": {},
          "execution_count": 91
        }
      ]
    },
    {
      "cell_type": "code",
      "source": [
        "from sklearn.model_selection import train_test_split\n",
        "X_sample, X_data, y_sample, y_data = train_test_split(X, y, test_size = 0.25, random_state = 42)\n",
        "X_sample.shape, y_sample.shape, X_data.shape, y_data.shape"
      ],
      "metadata": {
        "colab": {
          "base_uri": "https://localhost:8080/"
        },
        "id": "yyLoWo5arGPV",
        "outputId": "ce58f630-18f1-4efe-b025-4561958e25fd"
      },
      "execution_count": null,
      "outputs": [
        {
          "output_type": "execute_result",
          "data": {
            "text/plain": [
              "((1265895, 9), (1265895,), (421965, 9), (421965,))"
            ]
          },
          "metadata": {},
          "execution_count": 92
        }
      ]
    },
    {
      "cell_type": "code",
      "source": [
        "X_train, X_test, y_train, y_test = train_test_split(X_sample, y_sample, test_size = 0.30, random_state = 42)\n",
        "X_train.shape, X_test.shape, y_train.shape, y_test.shape"
      ],
      "metadata": {
        "colab": {
          "base_uri": "https://localhost:8080/"
        },
        "id": "aoWz0jLIrT5I",
        "outputId": "cb2510cc-2c43-4c52-d240-f6a1054c0add"
      },
      "execution_count": null,
      "outputs": [
        {
          "output_type": "execute_result",
          "data": {
            "text/plain": [
              "((886126, 9), (379769, 9), (886126,), (379769,))"
            ]
          },
          "metadata": {},
          "execution_count": 93
        }
      ]
    },
    {
      "cell_type": "code",
      "source": [
        "from sklearn.ensemble import RandomForestClassifier\n",
        "from sklearn.metrics import classification_report\n",
        "rfmodel = RandomForestClassifier(random_state = 42)\n",
        "#Fit the training set\n",
        "rfmodel.fit(X_train, y_train)\n",
        "rfmodel_prediction = rfmodel.predict(X_test)\n",
        "#get the classification report\n",
        "rfmodel_report =  classification_report(y_test, rfmodel_prediction)\n",
        "print(rfmodel_report)"
      ],
      "metadata": {
        "id": "FNa0pxUcrZre",
        "colab": {
          "base_uri": "https://localhost:8080/"
        },
        "outputId": "887ea39b-5eec-43f6-9211-d3854ad9a5c0"
      },
      "execution_count": null,
      "outputs": [
        {
          "output_type": "stream",
          "name": "stdout",
          "text": [
            "              precision    recall  f1-score   support\n",
            "\n",
            "           0       0.99      1.00      1.00    377203\n",
            "           1       0.74      0.16      0.26      2566\n",
            "\n",
            "    accuracy                           0.99    379769\n",
            "   macro avg       0.87      0.58      0.63    379769\n",
            "weighted avg       0.99      0.99      0.99    379769\n",
            "\n"
          ]
        }
      ]
    },
    {
      "cell_type": "code",
      "source": [
        "# from sklearn.pipeline import Pipeline   \n",
        "#from sklearn import svm\n",
        "#from sklearn.preprocessing import StandardScaler  \n",
        "   \n",
        "#steps = [('scaler', StandardScaler()),\n",
        "   #     ('svc', svm.SVC(class_weight = 'balanced'))]\n",
        "#Create the pipeline: pipeline\n",
        "#pipeline_svc = Pipeline(steps)\n",
        "\n",
        "# Fit to the training set\n",
        "#pipeline_svc.fit(X_train, y_train)\n",
        "#svc_prediction = pipeline_svc.predict( X_test )\n",
        "# get the classification report\n",
        "#svc_report = classification_report( y_test, svc_prediction )\n",
        "#print the report\n",
        "#print(svc_report)"
      ],
      "metadata": {
        "id": "mWfNQOtcu5gG"
      },
      "execution_count": null,
      "outputs": []
    },
    {
      "cell_type": "code",
      "source": [
        ""
      ],
      "metadata": {
        "id": "IL60CmW9JPL5"
      },
      "execution_count": null,
      "outputs": []
    },
    {
      "cell_type": "code",
      "source": [
        "join1=df[df['went_on_backorder']=='Yes']\n",
        "join2=df[df['went_on_backorder']=='No']\n",
        "join3=join2.sample(n=11000, random_state = 42)\n",
        "\n",
        "df=pd.merge(join1,join3,how='outer')\n",
        "df=df.sample(frac=1).reset_index(drop=True)\n",
        "df"
      ],
      "metadata": {
        "id": "Roh58Mx3Licc",
        "colab": {
          "base_uri": "https://localhost:8080/",
          "height": 488
        },
        "outputId": "28bbde07-139d-493a-c0fd-74f06e3cdb1e"
      },
      "execution_count": null,
      "outputs": [
        {
          "output_type": "execute_result",
          "data": {
            "text/plain": [
              "       current_inventory  transit_duration  prior_sales_1_month  \\\n",
              "0                   10.0               2.0                  0.0   \n",
              "1                    0.0               2.0                  0.0   \n",
              "2                   26.0               4.0                  0.0   \n",
              "3                    2.0               2.0                  0.0   \n",
              "4                    0.0               2.0                  0.0   \n",
              "...                  ...               ...                  ...   \n",
              "22288                9.0               8.0                  0.0   \n",
              "22289               98.0              52.0                  2.0   \n",
              "22290              110.0               8.0                174.0   \n",
              "22291                7.0               2.0                  0.0   \n",
              "22292              166.0               8.0                 59.0   \n",
              "\n",
              "       prior_sales_3_month  prior_sales_9_month  minimum_recommend_stock  \\\n",
              "0                      0.0                  0.0                      0.0   \n",
              "1                      0.0                  0.0                      0.0   \n",
              "2                      0.0                  1.0                      1.0   \n",
              "3                      1.0                  6.0                      0.0   \n",
              "4                      1.0                  1.0                      0.0   \n",
              "...                    ...                  ...                      ...   \n",
              "22288                  0.0                  0.0                      0.0   \n",
              "22289                  8.0                 23.0                      6.0   \n",
              "22290                744.0               1858.0                    156.0   \n",
              "22291                  1.0                  1.0                      1.0   \n",
              "22292                189.0                571.0                     68.0   \n",
              "\n",
              "       source_performance_6_months  source_performance_12_months  \\\n",
              "0                             0.87                          0.90   \n",
              "1                             0.76                          0.77   \n",
              "2                             0.77                          0.80   \n",
              "3                             0.99                          0.99   \n",
              "4                             0.33                          0.59   \n",
              "...                            ...                           ...   \n",
              "22288                         0.84                          0.83   \n",
              "22289                         0.93                          0.96   \n",
              "22290                         0.31                          0.18   \n",
              "22291                         0.98                          0.97   \n",
              "22292                         1.00                          0.95   \n",
              "\n",
              "      oe_constraint went_on_backorder  \n",
              "0                No                No  \n",
              "1                No               Yes  \n",
              "2                No                No  \n",
              "3                No               Yes  \n",
              "4                No               Yes  \n",
              "...             ...               ...  \n",
              "22288            No                No  \n",
              "22289            No                No  \n",
              "22290            No               Yes  \n",
              "22291            No                No  \n",
              "22292            No                No  \n",
              "\n",
              "[22293 rows x 10 columns]"
            ],
            "text/html": [
              "\n",
              "  <div id=\"df-da2ef947-ca42-48a5-90db-26acdf8bb68e\">\n",
              "    <div class=\"colab-df-container\">\n",
              "      <div>\n",
              "<style scoped>\n",
              "    .dataframe tbody tr th:only-of-type {\n",
              "        vertical-align: middle;\n",
              "    }\n",
              "\n",
              "    .dataframe tbody tr th {\n",
              "        vertical-align: top;\n",
              "    }\n",
              "\n",
              "    .dataframe thead th {\n",
              "        text-align: right;\n",
              "    }\n",
              "</style>\n",
              "<table border=\"1\" class=\"dataframe\">\n",
              "  <thead>\n",
              "    <tr style=\"text-align: right;\">\n",
              "      <th></th>\n",
              "      <th>current_inventory</th>\n",
              "      <th>transit_duration</th>\n",
              "      <th>prior_sales_1_month</th>\n",
              "      <th>prior_sales_3_month</th>\n",
              "      <th>prior_sales_9_month</th>\n",
              "      <th>minimum_recommend_stock</th>\n",
              "      <th>source_performance_6_months</th>\n",
              "      <th>source_performance_12_months</th>\n",
              "      <th>oe_constraint</th>\n",
              "      <th>went_on_backorder</th>\n",
              "    </tr>\n",
              "  </thead>\n",
              "  <tbody>\n",
              "    <tr>\n",
              "      <th>0</th>\n",
              "      <td>10.0</td>\n",
              "      <td>2.0</td>\n",
              "      <td>0.0</td>\n",
              "      <td>0.0</td>\n",
              "      <td>0.0</td>\n",
              "      <td>0.0</td>\n",
              "      <td>0.87</td>\n",
              "      <td>0.90</td>\n",
              "      <td>No</td>\n",
              "      <td>No</td>\n",
              "    </tr>\n",
              "    <tr>\n",
              "      <th>1</th>\n",
              "      <td>0.0</td>\n",
              "      <td>2.0</td>\n",
              "      <td>0.0</td>\n",
              "      <td>0.0</td>\n",
              "      <td>0.0</td>\n",
              "      <td>0.0</td>\n",
              "      <td>0.76</td>\n",
              "      <td>0.77</td>\n",
              "      <td>No</td>\n",
              "      <td>Yes</td>\n",
              "    </tr>\n",
              "    <tr>\n",
              "      <th>2</th>\n",
              "      <td>26.0</td>\n",
              "      <td>4.0</td>\n",
              "      <td>0.0</td>\n",
              "      <td>0.0</td>\n",
              "      <td>1.0</td>\n",
              "      <td>1.0</td>\n",
              "      <td>0.77</td>\n",
              "      <td>0.80</td>\n",
              "      <td>No</td>\n",
              "      <td>No</td>\n",
              "    </tr>\n",
              "    <tr>\n",
              "      <th>3</th>\n",
              "      <td>2.0</td>\n",
              "      <td>2.0</td>\n",
              "      <td>0.0</td>\n",
              "      <td>1.0</td>\n",
              "      <td>6.0</td>\n",
              "      <td>0.0</td>\n",
              "      <td>0.99</td>\n",
              "      <td>0.99</td>\n",
              "      <td>No</td>\n",
              "      <td>Yes</td>\n",
              "    </tr>\n",
              "    <tr>\n",
              "      <th>4</th>\n",
              "      <td>0.0</td>\n",
              "      <td>2.0</td>\n",
              "      <td>0.0</td>\n",
              "      <td>1.0</td>\n",
              "      <td>1.0</td>\n",
              "      <td>0.0</td>\n",
              "      <td>0.33</td>\n",
              "      <td>0.59</td>\n",
              "      <td>No</td>\n",
              "      <td>Yes</td>\n",
              "    </tr>\n",
              "    <tr>\n",
              "      <th>...</th>\n",
              "      <td>...</td>\n",
              "      <td>...</td>\n",
              "      <td>...</td>\n",
              "      <td>...</td>\n",
              "      <td>...</td>\n",
              "      <td>...</td>\n",
              "      <td>...</td>\n",
              "      <td>...</td>\n",
              "      <td>...</td>\n",
              "      <td>...</td>\n",
              "    </tr>\n",
              "    <tr>\n",
              "      <th>22288</th>\n",
              "      <td>9.0</td>\n",
              "      <td>8.0</td>\n",
              "      <td>0.0</td>\n",
              "      <td>0.0</td>\n",
              "      <td>0.0</td>\n",
              "      <td>0.0</td>\n",
              "      <td>0.84</td>\n",
              "      <td>0.83</td>\n",
              "      <td>No</td>\n",
              "      <td>No</td>\n",
              "    </tr>\n",
              "    <tr>\n",
              "      <th>22289</th>\n",
              "      <td>98.0</td>\n",
              "      <td>52.0</td>\n",
              "      <td>2.0</td>\n",
              "      <td>8.0</td>\n",
              "      <td>23.0</td>\n",
              "      <td>6.0</td>\n",
              "      <td>0.93</td>\n",
              "      <td>0.96</td>\n",
              "      <td>No</td>\n",
              "      <td>No</td>\n",
              "    </tr>\n",
              "    <tr>\n",
              "      <th>22290</th>\n",
              "      <td>110.0</td>\n",
              "      <td>8.0</td>\n",
              "      <td>174.0</td>\n",
              "      <td>744.0</td>\n",
              "      <td>1858.0</td>\n",
              "      <td>156.0</td>\n",
              "      <td>0.31</td>\n",
              "      <td>0.18</td>\n",
              "      <td>No</td>\n",
              "      <td>Yes</td>\n",
              "    </tr>\n",
              "    <tr>\n",
              "      <th>22291</th>\n",
              "      <td>7.0</td>\n",
              "      <td>2.0</td>\n",
              "      <td>0.0</td>\n",
              "      <td>1.0</td>\n",
              "      <td>1.0</td>\n",
              "      <td>1.0</td>\n",
              "      <td>0.98</td>\n",
              "      <td>0.97</td>\n",
              "      <td>No</td>\n",
              "      <td>No</td>\n",
              "    </tr>\n",
              "    <tr>\n",
              "      <th>22292</th>\n",
              "      <td>166.0</td>\n",
              "      <td>8.0</td>\n",
              "      <td>59.0</td>\n",
              "      <td>189.0</td>\n",
              "      <td>571.0</td>\n",
              "      <td>68.0</td>\n",
              "      <td>1.00</td>\n",
              "      <td>0.95</td>\n",
              "      <td>No</td>\n",
              "      <td>No</td>\n",
              "    </tr>\n",
              "  </tbody>\n",
              "</table>\n",
              "<p>22293 rows × 10 columns</p>\n",
              "</div>\n",
              "      <button class=\"colab-df-convert\" onclick=\"convertToInteractive('df-da2ef947-ca42-48a5-90db-26acdf8bb68e')\"\n",
              "              title=\"Convert this dataframe to an interactive table.\"\n",
              "              style=\"display:none;\">\n",
              "        \n",
              "  <svg xmlns=\"http://www.w3.org/2000/svg\" height=\"24px\"viewBox=\"0 0 24 24\"\n",
              "       width=\"24px\">\n",
              "    <path d=\"M0 0h24v24H0V0z\" fill=\"none\"/>\n",
              "    <path d=\"M18.56 5.44l.94 2.06.94-2.06 2.06-.94-2.06-.94-.94-2.06-.94 2.06-2.06.94zm-11 1L8.5 8.5l.94-2.06 2.06-.94-2.06-.94L8.5 2.5l-.94 2.06-2.06.94zm10 10l.94 2.06.94-2.06 2.06-.94-2.06-.94-.94-2.06-.94 2.06-2.06.94z\"/><path d=\"M17.41 7.96l-1.37-1.37c-.4-.4-.92-.59-1.43-.59-.52 0-1.04.2-1.43.59L10.3 9.45l-7.72 7.72c-.78.78-.78 2.05 0 2.83L4 21.41c.39.39.9.59 1.41.59.51 0 1.02-.2 1.41-.59l7.78-7.78 2.81-2.81c.8-.78.8-2.07 0-2.86zM5.41 20L4 18.59l7.72-7.72 1.47 1.35L5.41 20z\"/>\n",
              "  </svg>\n",
              "      </button>\n",
              "      \n",
              "  <style>\n",
              "    .colab-df-container {\n",
              "      display:flex;\n",
              "      flex-wrap:wrap;\n",
              "      gap: 12px;\n",
              "    }\n",
              "\n",
              "    .colab-df-convert {\n",
              "      background-color: #E8F0FE;\n",
              "      border: none;\n",
              "      border-radius: 50%;\n",
              "      cursor: pointer;\n",
              "      display: none;\n",
              "      fill: #1967D2;\n",
              "      height: 32px;\n",
              "      padding: 0 0 0 0;\n",
              "      width: 32px;\n",
              "    }\n",
              "\n",
              "    .colab-df-convert:hover {\n",
              "      background-color: #E2EBFA;\n",
              "      box-shadow: 0px 1px 2px rgba(60, 64, 67, 0.3), 0px 1px 3px 1px rgba(60, 64, 67, 0.15);\n",
              "      fill: #174EA6;\n",
              "    }\n",
              "\n",
              "    [theme=dark] .colab-df-convert {\n",
              "      background-color: #3B4455;\n",
              "      fill: #D2E3FC;\n",
              "    }\n",
              "\n",
              "    [theme=dark] .colab-df-convert:hover {\n",
              "      background-color: #434B5C;\n",
              "      box-shadow: 0px 1px 3px 1px rgba(0, 0, 0, 0.15);\n",
              "      filter: drop-shadow(0px 1px 2px rgba(0, 0, 0, 0.3));\n",
              "      fill: #FFFFFF;\n",
              "    }\n",
              "  </style>\n",
              "\n",
              "      <script>\n",
              "        const buttonEl =\n",
              "          document.querySelector('#df-da2ef947-ca42-48a5-90db-26acdf8bb68e button.colab-df-convert');\n",
              "        buttonEl.style.display =\n",
              "          google.colab.kernel.accessAllowed ? 'block' : 'none';\n",
              "\n",
              "        async function convertToInteractive(key) {\n",
              "          const element = document.querySelector('#df-da2ef947-ca42-48a5-90db-26acdf8bb68e');\n",
              "          const dataTable =\n",
              "            await google.colab.kernel.invokeFunction('convertToInteractive',\n",
              "                                                     [key], {});\n",
              "          if (!dataTable) return;\n",
              "\n",
              "          const docLinkHtml = 'Like what you see? Visit the ' +\n",
              "            '<a target=\"_blank\" href=https://colab.research.google.com/notebooks/data_table.ipynb>data table notebook</a>'\n",
              "            + ' to learn more about interactive tables.';\n",
              "          element.innerHTML = '';\n",
              "          dataTable['output_type'] = 'display_data';\n",
              "          await google.colab.output.renderOutput(dataTable, element);\n",
              "          const docLink = document.createElement('div');\n",
              "          docLink.innerHTML = docLinkHtml;\n",
              "          element.appendChild(docLink);\n",
              "        }\n",
              "      </script>\n",
              "    </div>\n",
              "  </div>\n",
              "  "
            ]
          },
          "metadata": {},
          "execution_count": 96
        }
      ]
    },
    {
      "cell_type": "code",
      "source": [
        ""
      ],
      "metadata": {
        "id": "bxnWEhGH2kj8"
      },
      "execution_count": null,
      "outputs": []
    },
    {
      "cell_type": "code",
      "source": [
        "#Preparing the data for modeling\n",
        "#X = pd.DataFrame(masterData.columns)\n",
        "X = df[df.columns]\n",
        "y = df['went_on_backorder']\n",
        "X.shape, y.shape"
      ],
      "metadata": {
        "id": "aZ0f0p_G2kx3",
        "colab": {
          "base_uri": "https://localhost:8080/"
        },
        "outputId": "37b3a052-fdcb-4d20-eabb-3ae29c9b4fa4"
      },
      "execution_count": null,
      "outputs": [
        {
          "output_type": "execute_result",
          "data": {
            "text/plain": [
              "((22293, 10), (22293,))"
            ]
          },
          "metadata": {},
          "execution_count": 97
        }
      ]
    },
    {
      "cell_type": "code",
      "source": [
        "\n",
        "#Convert the categorical data into numerical\n",
        "y = y.replace('Yes', 1)\n",
        "y = y.replace('No', 0)\n",
        "X['oe_constraint'] = X.oe_constraint.map({'Yes':1, 'No':0})\n",
        "\n",
        "X = X.drop(['went_on_backorder'], axis = 1, errors = 'ignore')\n",
        "X.shape, y.shape\n"
      ],
      "metadata": {
        "id": "cywlVCVh2kx5",
        "colab": {
          "base_uri": "https://localhost:8080/"
        },
        "outputId": "510bee54-d543-44f5-8f61-29dc5f6e9ca8"
      },
      "execution_count": null,
      "outputs": [
        {
          "output_type": "execute_result",
          "data": {
            "text/plain": [
              "((22293, 9), (22293,))"
            ]
          },
          "metadata": {},
          "execution_count": 98
        }
      ]
    },
    {
      "cell_type": "code",
      "source": [
        "from sklearn.model_selection import train_test_split\n",
        "X_sample, X_data, y_sample, y_data = train_test_split(X, y, test_size = 0.80, random_state = 42)\n",
        "X_sample.shape, y_sample.shape, X_data.shape, y_data.shape"
      ],
      "metadata": {
        "id": "qJ_c8RgN2kx6",
        "colab": {
          "base_uri": "https://localhost:8080/"
        },
        "outputId": "a3d3e60e-1b9c-4629-b1e5-d1e061597ff6"
      },
      "execution_count": null,
      "outputs": [
        {
          "output_type": "execute_result",
          "data": {
            "text/plain": [
              "((4458, 9), (4458,), (17835, 9), (17835,))"
            ]
          },
          "metadata": {},
          "execution_count": 99
        }
      ]
    },
    {
      "cell_type": "code",
      "source": [
        "X_train, X_test, y_train, y_test = train_test_split(X_sample, y_sample, test_size = 0.20, random_state = 42)\n",
        "X_train.shape, X_test.shape, y_train.shape, y_test.shape"
      ],
      "metadata": {
        "id": "a8_vXpgI2kx7",
        "colab": {
          "base_uri": "https://localhost:8080/"
        },
        "outputId": "5e2a005d-b1fe-4573-c364-2afa86a26787"
      },
      "execution_count": null,
      "outputs": [
        {
          "output_type": "execute_result",
          "data": {
            "text/plain": [
              "((3566, 9), (892, 9), (3566,), (892,))"
            ]
          },
          "metadata": {},
          "execution_count": 100
        }
      ]
    },
    {
      "cell_type": "code",
      "source": [
        ""
      ],
      "metadata": {
        "id": "FrSv8fQkN27T"
      },
      "execution_count": null,
      "outputs": []
    },
    {
      "cell_type": "code",
      "source": [
        ""
      ],
      "metadata": {
        "id": "TAmg0JMgN2rL"
      },
      "execution_count": null,
      "outputs": []
    },
    {
      "cell_type": "code",
      "source": [
        "from sklearn.ensemble import RandomForestClassifier\n",
        "from sklearn.metrics import classification_report\n",
        "rfmodel = RandomForestClassifier(random_state = 42) \n",
        "#Fit the training set\n",
        "rfmodel.fit(X_train, y_train)\n",
        "rfmodel_prediction = rfmodel.predict(X_test)\n",
        "\n",
        "#get the classification report\n",
        "rfmodel_report =  classification_report(y_test, rfmodel_prediction)\n",
        "print(rfmodel_report)"
      ],
      "metadata": {
        "id": "4NGLUtLD2kx7",
        "colab": {
          "base_uri": "https://localhost:8080/"
        },
        "outputId": "5f3f05ed-364b-49b1-83fa-7ca9a9fc865a"
      },
      "execution_count": null,
      "outputs": [
        {
          "output_type": "stream",
          "name": "stdout",
          "text": [
            "              precision    recall  f1-score   support\n",
            "\n",
            "           0       0.83      0.83      0.83       413\n",
            "           1       0.86      0.86      0.86       479\n",
            "\n",
            "    accuracy                           0.85       892\n",
            "   macro avg       0.85      0.85      0.85       892\n",
            "weighted avg       0.85      0.85      0.85       892\n",
            "\n"
          ]
        }
      ]
    },
    {
      "cell_type": "code",
      "source": [
        "rfmodel_prediction"
      ],
      "metadata": {
        "id": "qBCq3ocMKzrm",
        "outputId": "1bb82255-ed63-4341-e529-0f026e76f220",
        "colab": {
          "base_uri": "https://localhost:8080/"
        }
      },
      "execution_count": null,
      "outputs": [
        {
          "output_type": "execute_result",
          "data": {
            "text/plain": [
              "array([1, 1, 1, 1, 1, 0, 1, 0, 0, 0, 0, 1, 0, 1, 1, 0, 0, 1, 1, 1, 1, 0,\n",
              "       1, 0, 1, 1, 1, 0, 0, 0, 1, 1, 1, 1, 1, 0, 1, 1, 1, 0, 0, 1, 0, 1,\n",
              "       0, 1, 0, 0, 1, 1, 1, 0, 1, 1, 1, 1, 0, 0, 0, 1, 0, 0, 1, 1, 1, 1,\n",
              "       0, 0, 1, 1, 1, 0, 0, 1, 1, 0, 1, 0, 1, 1, 0, 1, 0, 1, 1, 0, 1, 1,\n",
              "       0, 1, 1, 0, 1, 0, 1, 1, 1, 1, 1, 1, 0, 0, 0, 1, 0, 0, 0, 0, 1, 0,\n",
              "       0, 0, 1, 1, 1, 1, 0, 0, 0, 1, 0, 0, 0, 1, 1, 0, 0, 0, 0, 1, 0, 0,\n",
              "       0, 1, 0, 0, 0, 0, 0, 1, 1, 1, 0, 1, 0, 0, 1, 0, 1, 0, 0, 0, 0, 0,\n",
              "       1, 1, 0, 0, 1, 1, 0, 0, 0, 0, 1, 1, 1, 0, 0, 0, 0, 1, 0, 0, 1, 1,\n",
              "       0, 1, 1, 0, 1, 1, 0, 1, 0, 0, 1, 0, 1, 1, 1, 1, 1, 1, 1, 1, 1, 0,\n",
              "       0, 1, 0, 1, 0, 0, 0, 0, 0, 0, 1, 0, 0, 1, 1, 1, 1, 0, 0, 0, 1, 0,\n",
              "       1, 0, 1, 0, 0, 0, 1, 0, 1, 0, 0, 1, 1, 0, 1, 0, 0, 1, 0, 1, 0, 0,\n",
              "       0, 1, 1, 1, 1, 1, 1, 1, 0, 1, 1, 0, 1, 1, 1, 0, 1, 1, 0, 0, 0, 0,\n",
              "       0, 0, 0, 0, 0, 0, 1, 0, 1, 1, 1, 1, 1, 0, 1, 1, 0, 0, 0, 1, 1, 1,\n",
              "       1, 0, 0, 1, 1, 0, 0, 0, 1, 1, 1, 0, 1, 1, 1, 0, 1, 1, 1, 1, 0, 1,\n",
              "       1, 0, 0, 0, 1, 0, 1, 1, 1, 0, 0, 1, 0, 1, 0, 1, 1, 1, 0, 1, 1, 1,\n",
              "       1, 1, 1, 0, 0, 1, 0, 0, 0, 0, 1, 1, 1, 0, 1, 0, 1, 0, 0, 1, 0, 1,\n",
              "       1, 1, 0, 0, 0, 0, 1, 1, 1, 0, 1, 1, 1, 1, 1, 1, 0, 0, 1, 1, 1, 1,\n",
              "       1, 1, 1, 1, 1, 0, 0, 0, 0, 0, 0, 1, 1, 1, 1, 0, 0, 1, 1, 1, 0, 1,\n",
              "       1, 0, 0, 0, 1, 1, 0, 0, 1, 0, 0, 1, 1, 1, 1, 0, 1, 0, 0, 0, 1, 1,\n",
              "       1, 1, 0, 0, 0, 1, 1, 1, 1, 0, 0, 1, 0, 0, 0, 0, 0, 1, 1, 0, 1, 1,\n",
              "       0, 0, 0, 1, 0, 1, 0, 1, 0, 1, 1, 1, 0, 0, 0, 1, 0, 1, 0, 0, 1, 1,\n",
              "       0, 0, 1, 0, 0, 1, 1, 1, 1, 0, 1, 0, 1, 1, 1, 1, 0, 1, 1, 1, 1, 1,\n",
              "       1, 0, 1, 0, 1, 1, 1, 1, 0, 0, 0, 0, 1, 1, 0, 0, 1, 0, 1, 0, 0, 1,\n",
              "       1, 0, 0, 1, 0, 0, 1, 1, 0, 0, 1, 1, 1, 1, 1, 1, 1, 0, 0, 1, 1, 1,\n",
              "       0, 0, 0, 0, 1, 0, 1, 0, 1, 1, 0, 1, 1, 1, 1, 1, 1, 1, 1, 1, 1, 1,\n",
              "       0, 0, 1, 0, 1, 0, 0, 1, 1, 1, 1, 1, 0, 1, 1, 1, 0, 1, 1, 1, 0, 0,\n",
              "       0, 0, 0, 0, 0, 1, 0, 0, 0, 1, 1, 0, 1, 1, 0, 0, 0, 0, 1, 1, 0, 1,\n",
              "       1, 1, 1, 0, 1, 0, 1, 0, 0, 0, 1, 1, 1, 1, 1, 1, 0, 0, 0, 1, 0, 1,\n",
              "       0, 1, 1, 1, 1, 0, 0, 1, 0, 0, 0, 0, 0, 1, 0, 0, 0, 1, 1, 0, 0, 0,\n",
              "       1, 1, 1, 0, 0, 0, 1, 1, 0, 0, 1, 1, 0, 0, 1, 1, 1, 1, 1, 0, 0, 1,\n",
              "       0, 1, 1, 0, 1, 0, 1, 0, 1, 1, 0, 1, 1, 1, 1, 0, 0, 1, 1, 0, 0, 0,\n",
              "       1, 1, 0, 1, 1, 0, 1, 0, 1, 1, 1, 0, 0, 1, 0, 1, 1, 1, 1, 0, 0, 1,\n",
              "       0, 1, 0, 1, 0, 0, 0, 0, 0, 1, 1, 1, 0, 0, 1, 0, 0, 0, 1, 1, 0, 0,\n",
              "       1, 0, 0, 0, 1, 0, 1, 0, 1, 0, 1, 0, 1, 1, 0, 1, 1, 0, 1, 0, 0, 1,\n",
              "       1, 1, 1, 1, 0, 1, 1, 0, 1, 1, 1, 0, 1, 1, 1, 0, 1, 1, 0, 0, 0, 0,\n",
              "       1, 1, 1, 0, 1, 1, 1, 0, 0, 1, 1, 1, 1, 0, 1, 0, 1, 0, 0, 1, 0, 0,\n",
              "       1, 0, 0, 0, 0, 0, 1, 0, 0, 1, 1, 0, 0, 1, 0, 1, 0, 1, 1, 1, 0, 1,\n",
              "       0, 1, 0, 1, 1, 1, 0, 1, 1, 1, 1, 1, 0, 0, 0, 1, 0, 0, 0, 1, 0, 0,\n",
              "       1, 1, 1, 0, 0, 1, 1, 1, 0, 1, 1, 1, 1, 1, 1, 0, 1, 1, 0, 0, 0, 1,\n",
              "       1, 1, 0, 1, 1, 0, 1, 0, 0, 1, 0, 1, 1, 0, 1, 1, 0, 0, 0, 0, 0, 1,\n",
              "       0, 0, 0, 0, 1, 1, 1, 1, 1, 1, 1, 0])"
            ]
          },
          "metadata": {},
          "execution_count": 106
        }
      ]
    },
    {
      "cell_type": "code",
      "source": [
        "df['went_on_backorder'].value_counts()"
      ],
      "metadata": {
        "id": "gW1Jutjm2yt1",
        "colab": {
          "base_uri": "https://localhost:8080/"
        },
        "outputId": "254e02ba-a51e-4ccd-820a-6476acfac820"
      },
      "execution_count": null,
      "outputs": [
        {
          "output_type": "execute_result",
          "data": {
            "text/plain": [
              "Yes    11293\n",
              "No     11000\n",
              "Name: went_on_backorder, dtype: int64"
            ]
          },
          "metadata": {},
          "execution_count": 102
        }
      ]
    },
    {
      "cell_type": "code",
      "source": [
        "\n",
        "from sklearn.ensemble import GradientBoostingClassifier\n",
        "\n",
        "gbmodel = GradientBoostingClassifier(random_state = 42)\n",
        "gbmodel.fit(X_train, y_train)\n",
        "gbmodel_prediction = gbmodel.predict(X_test)\n",
        "#get the classification report\n",
        "gbmodel_report =  classification_report(y_test, gbmodel_prediction)\n",
        "print(gbmodel_report)\n"
      ],
      "metadata": {
        "id": "S7dwsHgsickk",
        "colab": {
          "base_uri": "https://localhost:8080/"
        },
        "outputId": "4e3f2bf2-1bd8-43e6-85a0-d13f4ea42035"
      },
      "execution_count": null,
      "outputs": [
        {
          "output_type": "stream",
          "name": "stdout",
          "text": [
            "              precision    recall  f1-score   support\n",
            "\n",
            "           0       0.82      0.81      0.82       413\n",
            "           1       0.84      0.85      0.85       479\n",
            "\n",
            "    accuracy                           0.83       892\n",
            "   macro avg       0.83      0.83      0.83       892\n",
            "weighted avg       0.83      0.83      0.83       892\n",
            "\n"
          ]
        }
      ]
    },
    {
      "cell_type": "code",
      "source": [
        "\n",
        "from sklearn.ensemble import AdaBoostClassifier\n",
        "\n",
        "#Train default RandomForest on 30% of the data\n",
        "abmodel = AdaBoostClassifier(random_state = 42)\n",
        "#Fit the training set\n",
        "abmodel.fit(X_train, y_train)\n",
        "abmodel_prediction = abmodel.predict(X_test)\n",
        "#get the classification report\n",
        "abmodel_report =  classification_report(y_test, abmodel_prediction)\n",
        "#print the report\n",
        "print(abmodel_report)\n"
      ],
      "metadata": {
        "id": "gh73EPZoDtPd",
        "colab": {
          "base_uri": "https://localhost:8080/"
        },
        "outputId": "1b7ef78b-bbb8-4bcc-b96b-291ab3279403"
      },
      "execution_count": null,
      "outputs": [
        {
          "output_type": "stream",
          "name": "stdout",
          "text": [
            "              precision    recall  f1-score   support\n",
            "\n",
            "           0       0.83      0.78      0.80       413\n",
            "           1       0.82      0.86      0.84       479\n",
            "\n",
            "    accuracy                           0.82       892\n",
            "   macro avg       0.82      0.82      0.82       892\n",
            "weighted avg       0.82      0.82      0.82       892\n",
            "\n"
          ]
        }
      ]
    },
    {
      "cell_type": "code",
      "source": [
        "from sklearn.linear_model import LogisticRegression\n",
        "from sklearn import StandardScaler\n",
        "\n",
        "steps = [('scaler', StandardScaler()),\n",
        "        ('logreg', LogisticRegression(class_weight = 'balanced'))]\n",
        "#Create the pipeline: pipeline\n",
        "pipeline_logreg = Pipeline(steps)\n",
        "\n",
        "# Fit to the training set\n",
        "pipeline_logreg.fit(X_train, y_train)\n",
        "logreg_prediction = pipeline_logreg.predict( X_test )\n",
        "# get the classification report\n",
        "logreg_report = classification_report( y_test, logreg_prediction )\n",
        "print(logreg_report)"
      ],
      "metadata": {
        "id": "cxFOT56la90W",
        "colab": {
          "base_uri": "https://localhost:8080/",
          "height": 244
        },
        "outputId": "8f902df8-91a4-4225-bb89-cc5c77105f4c"
      },
      "execution_count": null,
      "outputs": [
        {
          "output_type": "error",
          "ename": "NameError",
          "evalue": "ignored",
          "traceback": [
            "\u001b[0;31m---------------------------------------------------------------------------\u001b[0m",
            "\u001b[0;31mNameError\u001b[0m                                 Traceback (most recent call last)",
            "\u001b[0;32m<ipython-input-105-41989749a5bd>\u001b[0m in \u001b[0;36m<module>\u001b[0;34m()\u001b[0m\n\u001b[1;32m      1\u001b[0m \u001b[0;32mfrom\u001b[0m \u001b[0msklearn\u001b[0m\u001b[0;34m.\u001b[0m\u001b[0mlinear_model\u001b[0m \u001b[0;32mimport\u001b[0m \u001b[0mLogisticRegression\u001b[0m\u001b[0;34m\u001b[0m\u001b[0;34m\u001b[0m\u001b[0m\n\u001b[1;32m      2\u001b[0m \u001b[0;34m\u001b[0m\u001b[0m\n\u001b[0;32m----> 3\u001b[0;31m steps = [('scaler', StandardScaler()),\n\u001b[0m\u001b[1;32m      4\u001b[0m         ('logreg', LogisticRegression(class_weight = 'balanced'))]\n\u001b[1;32m      5\u001b[0m \u001b[0;31m#Create the pipeline: pipeline\u001b[0m\u001b[0;34m\u001b[0m\u001b[0;34m\u001b[0m\u001b[0;34m\u001b[0m\u001b[0m\n",
            "\u001b[0;31mNameError\u001b[0m: name 'StandardScaler' is not defined"
          ]
        }
      ]
    },
    {
      "cell_type": "code",
      "source": [
        "from sklearn.metrics import roc_curve\n",
        "\n",
        "#plot ROC Curves\n",
        "fig , ax1 = plt.subplots(figsize=(9,9) )\n",
        "plt.plot([0, 1], [0, 1], 'k--')\n",
        "estimators =[pipeline_logreg, rfmodel,gbmodel, abmodel]\n",
        "classifiers=['LogisticRegression', 'RandomForestClassifier','GradientBoostingClassifier','AdaBoostClassifier'  ]\n",
        "colors = ['g', 'r','c','m']\n",
        "for i, estimator in enumerate(estimators):\n",
        "    y_pred_prob = estimator.predict_proba(X_test)[:,1]\n",
        "    fpr, tpr, thresholds= roc_curve(y_test, y_pred_prob)\n",
        "    plt.plot(fpr, tpr, label=classifiers[i],color=colors[i]) \n",
        "plt.xlabel('False Positive Rate')\n",
        "plt.ylabel('True Positive Rate')\n",
        "plt.legend(loc=4)\n",
        "plt.title('ROC Curve')"
      ],
      "metadata": {
        "id": "yCxeVzgNZepk"
      },
      "execution_count": null,
      "outputs": []
    },
    {
      "cell_type": "code",
      "source": [
        ""
      ],
      "metadata": {
        "id": "w7yhDPCiH5kS"
      },
      "execution_count": null,
      "outputs": []
    }
  ]
}